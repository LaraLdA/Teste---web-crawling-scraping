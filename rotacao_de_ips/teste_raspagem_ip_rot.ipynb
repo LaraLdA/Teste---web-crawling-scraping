{
 "cells": [
  {
   "cell_type": "markdown",
   "id": "8170fedc",
   "metadata": {},
   "source": [
    "### Teste -Web Scraping e Crawlers"
   ]
  },
  {
   "cell_type": "code",
   "execution_count": 4,
   "id": "d7a6180f",
   "metadata": {},
   "outputs": [],
   "source": [
    "import requests\n",
    "from bs4 import BeautifulSoup\n",
    "import time\n",
    "import json\n"
   ]
  },
  {
   "cell_type": "code",
   "execution_count": 5,
   "id": "9c2ab172",
   "metadata": {},
   "outputs": [
    {
     "name": "stdout",
     "output_type": "stream",
     "text": [
      "<html>\n",
      " <head>\n",
      "  <title>\n",
      "   Free Proxy Lists\n",
      "  </title>\n",
      "  <style type=\"text/css\">\n",
      "   <!--\r\n",
      "div#contents {\r\n",
      "width: 350px;\r\n",
      "height: 200px;\r\n",
      "position: absolute;\r\n",
      "top: 50%;\r\n",
      "left: 50%;\r\n",
      "margin: -100px 0 0 -175px;\r\n",
      "padding: 0px;\r\n",
      "}\r\n",
      "-->\n",
      "  </style>\n",
      "  <script async=\"\" defer=\"\" src=\"https://www.google.com/recaptcha/api.js\">\n",
      "  </script>\n",
      " </head>\n",
      " <body>\n",
      "  <div id=\"contents\">\n",
      "   <center>\n",
      "    <form action=\"/\" method=\"post\">\n",
      "     <div class=\"g-recaptcha\" data-sitekey=\"6LdOqaobAAAAACFOBruA5lJuP0FEKN4vmdz4BMRV\">\n",
      "     </div>\n",
      "     <br/>\n",
      "     <input type=\"submit\" value=\"Submit\"/>\n",
      "    </form>\n",
      "   </center>\n",
      "  </div>\n",
      " </body>\n",
      "</html>\n",
      "\n"
     ]
    }
   ],
   "source": [
    "url = \"http://www.freeproxylists.net\"\n",
    "requisicao = requests.get(url)\n",
    "site = BeautifulSoup(requisicao.text, \"html.parser\") #le o html \n",
    "print(site.prettify())"
   ]
  },
  {
   "cell_type": "code",
   "execution_count": 6,
   "id": "ea42444b",
   "metadata": {},
   "outputs": [],
   "source": [
    "from selenium import webdriver\n",
    "from selenium.webdriver.common.by import By\n",
    "from selenium.webdriver.support.ui import WebDriverWait\n",
    "from selenium.webdriver.support import expected_conditions as EC\n",
    "from concurrent.futures import ThreadPoolExecutor\n"
   ]
  },
  {
   "cell_type": "code",
   "execution_count": 7,
   "id": "e5bd8b09",
   "metadata": {},
   "outputs": [],
   "source": [
    "#função para extrair da tabela os elementos (células)\n",
    "def extrair_dados(linha):\n",
    "    # Obtenha os elementos da linha (td)\n",
    "    elementos = linha.find_all(\"td\")\n",
    "    \n",
    "    if len(elementos) < 9:\n",
    "        return None  #Ignore linhas com elementos insuficientes e passe para a próxima\n",
    "    \n",
    "    try:\n",
    "        ip = elementos[0].find(\"a\").text.strip()\n",
    "        porta = elementos[1].text.strip()\n",
    "        protocolo = elementos[2].text.strip()\n",
    "        país = elementos[4].text.strip()\n",
    "        uptime = elementos[7].text.strip()\n",
    "    except Exception as e:\n",
    "        print(f\"Erro ao extrair dados da linha: {e}\")\n",
    "        return None\n",
    "    \n",
    "    proxy = {\n",
    "        \"ip\": ip,\n",
    "        \"porta\": porta,\n",
    "        \"protocolo\": protocolo,\n",
    "        \"pais\": país,\n",
    "        \"uptime\": uptime\n",
    "    }\n",
    "    \n",
    "    return proxy\n"
   ]
  },
  {
   "cell_type": "code",
   "execution_count": 11,
   "id": "87fd4ca9",
   "metadata": {},
   "outputs": [],
   "source": [
    "import pandas as pd\n",
    "import asyncio \n",
    "import aiohttp\n"
   ]
  },
  {
   "cell_type": "markdown",
   "id": "d0a446ab",
   "metadata": {},
   "source": [
    "### Uso de uma lista de ips, para fazer rotação\n",
    "O resultado não foi o esperado, acredito que pelos ips não serem apropriados.\n",
    "Esses ips foram adquiridos no site https://hidemyna.me/ e do próprio site  http://www.freeproxylists.net "
   ]
  },
  {
   "cell_type": "code",
   "execution_count": 14,
   "id": "98a8fe47",
   "metadata": {
    "scrolled": false
   },
   "outputs": [
    {
     "data": {
      "text/html": [
       "<div>\n",
       "<style scoped>\n",
       "    .dataframe tbody tr th:only-of-type {\n",
       "        vertical-align: middle;\n",
       "    }\n",
       "\n",
       "    .dataframe tbody tr th {\n",
       "        vertical-align: top;\n",
       "    }\n",
       "\n",
       "    .dataframe thead th {\n",
       "        text-align: right;\n",
       "    }\n",
       "</style>\n",
       "<table border=\"1\" class=\"dataframe\">\n",
       "  <thead>\n",
       "    <tr style=\"text-align: right;\">\n",
       "      <th></th>\n",
       "      <th>http://34.75.202.63:80</th>\n",
       "    </tr>\n",
       "  </thead>\n",
       "  <tbody>\n",
       "    <tr>\n",
       "      <th>0</th>\n",
       "      <td>http://103.123.25.65:80</td>\n",
       "    </tr>\n",
       "    <tr>\n",
       "      <th>1</th>\n",
       "      <td>http://61.158.175.38:9002</td>\n",
       "    </tr>\n",
       "    <tr>\n",
       "      <th>2</th>\n",
       "      <td>http://139.196.214.238:2087</td>\n",
       "    </tr>\n",
       "    <tr>\n",
       "      <th>3</th>\n",
       "      <td>http://61.158.175.38:9002</td>\n",
       "    </tr>\n",
       "    <tr>\n",
       "      <th>4</th>\n",
       "      <td>http://50.221.203.217:80</td>\n",
       "    </tr>\n",
       "    <tr>\n",
       "      <th>5</th>\n",
       "      <td>http://159.203.61.169:8080</td>\n",
       "    </tr>\n",
       "    <tr>\n",
       "      <th>6</th>\n",
       "      <td>http://139.59.1.14:3128</td>\n",
       "    </tr>\n",
       "    <tr>\n",
       "      <th>7</th>\n",
       "      <td>http://138.68.60.8:8080</td>\n",
       "    </tr>\n",
       "    <tr>\n",
       "      <th>8</th>\n",
       "      <td>http://117.251.103.186:8080</td>\n",
       "    </tr>\n",
       "    <tr>\n",
       "      <th>9</th>\n",
       "      <td>http://50.206.25.110:80</td>\n",
       "    </tr>\n",
       "    <tr>\n",
       "      <th>10</th>\n",
       "      <td>http://211.97.2.196:9002</td>\n",
       "    </tr>\n",
       "    <tr>\n",
       "      <th>11</th>\n",
       "      <td>http://134.209.29.120:3128</td>\n",
       "    </tr>\n",
       "    <tr>\n",
       "      <th>12</th>\n",
       "      <td>http://213.33.2.27:80</td>\n",
       "    </tr>\n",
       "    <tr>\n",
       "      <th>13</th>\n",
       "      <td>http://41.230.216.70:80</td>\n",
       "    </tr>\n",
       "    <tr>\n",
       "      <th>14</th>\n",
       "      <td>http://41.57.6.45:8080</td>\n",
       "    </tr>\n",
       "  </tbody>\n",
       "</table>\n",
       "</div>"
      ],
      "text/plain": [
       "         http://34.75.202.63:80\n",
       "0       http://103.123.25.65:80\n",
       "1     http://61.158.175.38:9002\n",
       "2   http://139.196.214.238:2087\n",
       "3     http://61.158.175.38:9002\n",
       "4      http://50.221.203.217:80\n",
       "5    http://159.203.61.169:8080\n",
       "6       http://139.59.1.14:3128\n",
       "7       http://138.68.60.8:8080\n",
       "8   http://117.251.103.186:8080\n",
       "9       http://50.206.25.110:80\n",
       "10     http://211.97.2.196:9002\n",
       "11   http://134.209.29.120:3128\n",
       "12        http://213.33.2.27:80\n",
       "13      http://41.230.216.70:80\n",
       "14       http://41.57.6.45:8080"
      ]
     },
     "execution_count": 14,
     "metadata": {},
     "output_type": "execute_result"
    }
   ],
   "source": [
    "proxies= pd.read_excel(\"proxies_list.xlsx\")\n",
    "proxies"
   ]
  },
  {
   "cell_type": "code",
   "execution_count": 16,
   "id": "dbeca910",
   "metadata": {
    "scrolled": true
   },
   "outputs": [
    {
     "name": "stdout",
     "output_type": "stream",
     "text": [
      "I'm busy right now, sorry.\n",
      "<html><head><title>403 Forbidden</title></head><body><h1>403 Forbidden</h1>Access denied. Your IP address is blacklisted.</body></html>\n",
      "<html><head><title>403 Forbidden</title></head><body><h1>403 Forbidden</h1>Access denied. Your IP address is blacklisted.</body></html>\n",
      "<html><head><title>403 Forbidden</title></head><body><h1>403 Forbidden</h1>Access denied. Your IP address is blacklisted.</body></html>\n",
      "Proxy com erro \n",
      "Proxy com erro \n",
      "Proxy com erro \n",
      "Proxy com erro \n",
      "Proxy com erro \n",
      "Proxy com erro \n",
      "Proxy com erro \n",
      "Proxy com erro \n",
      "Proxy com erro \n",
      "Proxy com erro \n",
      "Proxy com erro \n"
     ]
    }
   ],
   "source": [
    "\n",
    "url = 'http://www.freeproxylists.net'\n",
    "time_espera = 10\n",
    "\n",
    "async def checa_proxy(url, proxy):\n",
    "    try:\n",
    "        session_timeout = aiohttp.ClientTimeout(\n",
    "            total=None,\n",
    "            sock_connect=time_espera,\n",
    "            sock_read=time_espera\n",
    "        )\n",
    "        async with aiohttp.ClientSession(timeout=session_timeout) as session:\n",
    "            async with session.get(url, proxy=proxy, timeout=time_espera) as resp:\n",
    "                print(await resp.text())\n",
    "    except Exception as error:\n",
    "        print('Proxy com erro', error)\n",
    "\n",
    "#         #Os proxies lidos de um arquivo Excel são iterados e para cada proxy, \n",
    "#         uma tarefa assíncrona é criada usando asyncio.create_task(checa_proxy(url, arquivo_linha)) \n",
    "#         e adicionada à lista de tarefas.\n",
    "#         Usando await asyncio.gather(*tasks), todas as tarefas são executadas em paralelo\n",
    "async def main():\n",
    "    tasks = []\n",
    "    proxies = pd.read_excel(\"proxies_list.xlsx\")\n",
    "    for arquivo_linha in proxies.iloc[:, 0]:  \n",
    "        task = asyncio.create_task(checa_proxy(url, arquivo_linha))\n",
    "        tasks.append(task)\n",
    "    await asyncio.gather(*tasks)\n",
    "#Verifica-se se o loop de eventos assíncronos já está em execução. \n",
    "\n",
    "if asyncio.get_event_loop().is_running():\n",
    "    loop = asyncio.get_event_loop()\n",
    "    loop.create_task(main())\n",
    "else:\n",
    "    asyncio.run(main())\n"
   ]
  },
  {
   "cell_type": "code",
   "execution_count": null,
   "id": "2d602b55",
   "metadata": {},
   "outputs": [],
   "source": []
  }
 ],
 "metadata": {
  "kernelspec": {
   "display_name": "web_crawling",
   "language": "python",
   "name": "web_crawling"
  },
  "language_info": {
   "codemirror_mode": {
    "name": "ipython",
    "version": 3
   },
   "file_extension": ".py",
   "mimetype": "text/x-python",
   "name": "python",
   "nbconvert_exporter": "python",
   "pygments_lexer": "ipython3",
   "version": "3.9.12"
  }
 },
 "nbformat": 4,
 "nbformat_minor": 5
}
